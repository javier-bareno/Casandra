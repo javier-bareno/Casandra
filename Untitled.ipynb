{
 "cells": [
  {
   "cell_type": "code",
   "execution_count": 5,
   "metadata": {},
   "outputs": [
    {
     "ename": "",
     "evalue": "3",
     "execution_count": 5,
     "output_type": "error",
     "traceback": [
      "Func or Array 'SQRT' not declared."
     ]
    }
   ],
   "source": [
    "integer ZG\n",
    "real RG\n",
    "ZG =19\n",
    "RG=SQRT(0.77*0.77 +(0.93*0.93-0.77*0.77)/18*(ZG-18))"
   ]
  },
  {
   "cell_type": "code",
   "execution_count": 14,
   "metadata": {},
   "outputs": [
    {
     "ename": "",
     "evalue": "2",
     "execution_count": 14,
     "output_type": "error",
     "traceback": [
      "Syntax Error:1:8: mismatched input '::' expecting {<EOF>, ';', NEWLINE}\nreal(8) :: RG=4.0_8\n       ^\n"
     ]
    }
   ],
   "source": [
    "real(8) :: RG=4.0_8\n",
    "\n",
    "sqrt(RG)"
   ]
  },
  {
   "cell_type": "code",
   "execution_count": 11,
   "metadata": {},
   "outputs": [
    {
     "ename": "",
     "evalue": "3",
     "execution_count": 11,
     "output_type": "error",
     "traceback": [
      "Type mismatch: LHS=_run13 (Integer()), RHS=<lfortran.ast.ast.FuncCallOrArray object at 0x112bc2978> (Real())"
     ]
    }
   ],
   "source": [
    "RG=4.\n",
    "sqrt(RG)"
   ]
  },
  {
   "cell_type": "code",
   "execution_count": 16,
   "metadata": {},
   "outputs": [
    {
     "ename": "",
     "evalue": "2",
     "execution_count": 16,
     "output_type": "error",
     "traceback": [
      "Syntax Error:8:12: missing {'=>', '='} at '('\n      read  (*,*) r\n           ^\n"
     ]
    }
   ],
   "source": [
    "program circle\n",
    "      real r, area\n",
    " \n",
    "! This program reads a real number r and prints\n",
    "! the area of a circle with radius r.\n",
    " \n",
    "      write (*,*) 'Give radius r:'\n",
    "      read  (*,*) r\n",
    "      area = 3.14159*r*r\n",
    "      write (*,*) 'Area = ', area\n",
    " \n",
    "      stop\n",
    "      end"
   ]
  },
  {
   "cell_type": "code",
   "execution_count": 22,
   "metadata": {},
   "outputs": [],
   "source": [
    "integer :: i\n",
    "real :: r"
   ]
  },
  {
   "cell_type": "code",
   "execution_count": 23,
   "metadata": {},
   "outputs": [
    {
     "ename": "",
     "evalue": "3",
     "execution_count": 23,
     "output_type": "error",
     "traceback": [
      "Type mismatch: LHS=_run17 (Integer()), RHS=<lfortran.ast.ast.Name object at 0x112c95908> (Real())"
     ]
    }
   ],
   "source": [
    "r"
   ]
  },
  {
   "cell_type": "code",
   "execution_count": 24,
   "metadata": {},
   "outputs": [
    {
     "ename": "",
     "evalue": "3",
     "execution_count": 24,
     "output_type": "error",
     "traceback": [
      "Type mismatch: LHS=r (Real()), RHS=<lfortran.ast.ast.Num object at 0x112c9c2e8> (Integer())"
     ]
    }
   ],
   "source": [
    "r=4"
   ]
  },
  {
   "cell_type": "code",
   "execution_count": 33,
   "metadata": {},
   "outputs": [],
   "source": [
    "r=4.0"
   ]
  },
  {
   "cell_type": "code",
   "execution_count": 36,
   "metadata": {},
   "outputs": [
    {
     "ename": "",
     "evalue": "3",
     "execution_count": 36,
     "output_type": "error",
     "traceback": [
      "Type mismatch: LHS=_run29 (Integer()), RHS=<lfortran.ast.ast.BinOp object at 0x112cd9908> (Real())"
     ]
    }
   ],
   "source": [
    "r*r"
   ]
  },
  {
   "cell_type": "code",
   "execution_count": null,
   "metadata": {},
   "outputs": [],
   "source": []
  }
 ],
 "metadata": {
  "kernelspec": {
   "display_name": "Fortran (lfortran 0.1)",
   "language": "fortran",
   "name": "fortran"
  },
  "language_info": {
   "file_extension": ".f90",
   "mimetype": "text/x-fortran",
   "name": "fortran",
   "version": "0.1"
  }
 },
 "nbformat": 4,
 "nbformat_minor": 4
}
