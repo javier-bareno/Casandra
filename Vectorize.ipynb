{
 "cells": [
  {
   "cell_type": "markdown",
   "metadata": {},
   "source": [
    "Trying to vectorize some of Ivan's codes.\n",
    "\n",
    "# Performance\n",
    "need to figure out relative performance of some of numpy's routines for matrix transformations"
   ]
  },
  {
   "cell_type": "code",
   "execution_count": 1,
   "metadata": {},
   "outputs": [],
   "source": [
    "import numpy as np"
   ]
  },
  {
   "cell_type": "code",
   "execution_count": 7,
   "metadata": {},
   "outputs": [],
   "source": [
    "A = np.random.rand(50,30)\n",
    "B = np.random.rand(30)"
   ]
  },
  {
   "cell_type": "markdown",
   "metadata": {},
   "source": [
    "## Dot product"
   ]
  },
  {
   "cell_type": "code",
   "execution_count": 8,
   "metadata": {},
   "outputs": [
    {
     "name": "stdout",
     "output_type": "stream",
     "text": [
      "2.12 µs ± 286 ns per loop (mean ± std. dev. of 7 runs, 100000 loops each)\n"
     ]
    }
   ],
   "source": [
    "%timeit np.dot(A,B)"
   ]
  },
  {
   "cell_type": "code",
   "execution_count": 9,
   "metadata": {},
   "outputs": [
    {
     "name": "stdout",
     "output_type": "stream",
     "text": [
      "2.96 µs ± 347 ns per loop (mean ± std. dev. of 7 runs, 100000 loops each)\n"
     ]
    }
   ],
   "source": [
    "%timeit np.matmul(A,B.reshape(30,1))"
   ]
  },
  {
   "cell_type": "code",
   "execution_count": 12,
   "metadata": {},
   "outputs": [
    {
     "name": "stdout",
     "output_type": "stream",
     "text": [
      "2.29 µs ± 116 ns per loop (mean ± std. dev. of 7 runs, 100000 loops each)\n"
     ]
    }
   ],
   "source": [
    "C=B.reshape(30,1)\n",
    "%timeit np.matmul(A,C)\n"
   ]
  },
  {
   "cell_type": "code",
   "execution_count": 16,
   "metadata": {},
   "outputs": [
    {
     "name": "stdout",
     "output_type": "stream",
     "text": [
      "6.23 µs ± 340 ns per loop (mean ± std. dev. of 7 runs, 100000 loops each)\n"
     ]
    }
   ],
   "source": [
    "%timeit np.einsum('ij,j',A,B)"
   ]
  },
  {
   "cell_type": "markdown",
   "metadata": {},
   "source": [
    "## Product"
   ]
  },
  {
   "cell_type": "code",
   "execution_count": 18,
   "metadata": {},
   "outputs": [
    {
     "name": "stdout",
     "output_type": "stream",
     "text": [
      "5.31 µs ± 1 µs per loop (mean ± std. dev. of 7 runs, 100000 loops each)\n"
     ]
    }
   ],
   "source": [
    "%timeit (A*B).shape"
   ]
  },
  {
   "cell_type": "code",
   "execution_count": 22,
   "metadata": {},
   "outputs": [
    {
     "name": "stdout",
     "output_type": "stream",
     "text": [
      "4.36 µs ± 198 ns per loop (mean ± std. dev. of 7 runs, 100000 loops each)\n"
     ]
    }
   ],
   "source": [
    "%timeit np.multiply(A,B)"
   ]
  },
  {
   "cell_type": "code",
   "execution_count": 21,
   "metadata": {},
   "outputs": [
    {
     "name": "stdout",
     "output_type": "stream",
     "text": [
      "5.38 µs ± 150 ns per loop (mean ± std. dev. of 7 runs, 100000 loops each)\n"
     ]
    }
   ],
   "source": [
    "%timeit np.einsum('ij,j->i',A,B)"
   ]
  },
  {
   "cell_type": "code",
   "execution_count": 29,
   "metadata": {},
   "outputs": [
    {
     "name": "stdout",
     "output_type": "stream",
     "text": [
      "1.08 ms ± 14.8 µs per loop (mean ± std. dev. of 7 runs, 100 loops each)\n"
     ]
    }
   ],
   "source": [
    "def for_prod(A,B):\n",
    "    \n",
    "    l1, l2 =A.shape\n",
    "    C=np.ones(A.shape)\n",
    "    for i in range(l1):\n",
    "        for k in range(l2):\n",
    "            C[i,k] = A[i,k]*B[k]\n",
    "\n",
    "%timeit for_prod(A,B)"
   ]
  },
  {
   "cell_type": "markdown",
   "metadata": {},
   "source": [
    "## Using out\n",
    "Not a good idea"
   ]
  },
  {
   "cell_type": "code",
   "execution_count": 30,
   "metadata": {},
   "outputs": [
    {
     "name": "stdout",
     "output_type": "stream",
     "text": [
      "5.34 µs ± 976 ns per loop (mean ± std. dev. of 7 runs, 100000 loops each)\n"
     ]
    }
   ],
   "source": [
    "%timeit np.multiply(A,B)"
   ]
  },
  {
   "cell_type": "code",
   "execution_count": 36,
   "metadata": {},
   "outputs": [
    {
     "name": "stdout",
     "output_type": "stream",
     "text": [
      "33.1 µs ± 2.09 µs per loop (mean ± std. dev. of 7 runs, 10000 loops each)\n"
     ]
    }
   ],
   "source": [
    "%timeit np.multiply(A,B, out = C)"
   ]
  },
  {
   "cell_type": "code",
   "execution_count": 39,
   "metadata": {},
   "outputs": [
    {
     "name": "stdout",
     "output_type": "stream",
     "text": [
      "35.6 µs ± 1.25 µs per loop (mean ± std. dev. of 7 runs, 10000 loops each)\n"
     ]
    }
   ],
   "source": [
    "C= np.einsum('ij,j',A,B)\n",
    "%timeit np.einsum('ij,j',A,B, out=C)"
   ]
  },
  {
   "cell_type": "code",
   "execution_count": 40,
   "metadata": {},
   "outputs": [
    {
     "name": "stdout",
     "output_type": "stream",
     "text": [
      "38.6 µs ± 1.64 µs per loop (mean ± std. dev. of 7 runs, 10000 loops each)\n"
     ]
    }
   ],
   "source": [
    "C= np.einsum('ij,j->j',A,B)\n",
    "%timeit np.einsum('ij,j->j',A,B, out=C)"
   ]
  },
  {
   "cell_type": "markdown",
   "metadata": {},
   "source": [
    "# Vectorize Ivan's code\n",
    "## Original for loops\n"
   ]
  },
  {
   "cell_type": "code",
   "execution_count": 45,
   "metadata": {},
   "outputs": [],
   "source": [
    "def for_loops_1(nr, nz, N1, N2):\n",
    "    #for test only\n",
    "    drv = dz = 2\n",
    "    R1 =15\n",
    "    R2 =20\n",
    "    LAMBDA = 5\n",
    "    \n",
    "    #code of interest:\n",
    "    \n",
    "    J=np.zeros((nr, nz))\n",
    "    for ir in range(nr):\n",
    "        r = (0.5+ir)*drv\n",
    "        for iz in range(nz):\n",
    "            z = (iz+0.5) *dz\n",
    "            s=0\n",
    "            for k1 in range(N1):\n",
    "                rc = R1 + (k1+0.5) *(R2-R1)/N1\n",
    "                for k2 in range(N2):\n",
    "                    fi = (k2 +0.5) * np.pi/N2\n",
    "                    r0 = np.sqrt(\n",
    "                            z*z + r*r + rc*rc  - 2*r*rc*np.cos(fi))\n",
    "                    s += rc* z * np.exp(-r0/LAMBDA) /(\n",
    "                            LAMBDA * np.power(r0, 3))\n",
    "            J[ir, iz] = ((R2-R1)/N1) * (np.pi/N2) * s * 2 /np.pi\n",
    "    return(J)\n"
   ]
  },
  {
   "cell_type": "markdown",
   "metadata": {},
   "source": [
    "## 1. Make loops onto matrices, but still loop over elements"
   ]
  },
  {
   "cell_type": "code",
   "execution_count": 50,
   "metadata": {},
   "outputs": [],
   "source": [
    "def for_loops_1b(nr, nz, N1, N2):\n",
    "    #for test only\n",
    "    drv = dz = 2\n",
    "    R1 =15\n",
    "    R2 =20\n",
    "    LAMBDA = 5\n",
    "    \n",
    "    #code of interest:\n",
    "    \n",
    "    Mr = np.zeros(nr)\n",
    "    Mz = np.zeros(nz)\n",
    "    Mrc = np.zeros(N1)\n",
    "    Mfi = np.zeros(N2)\n",
    "    \n",
    "    J=np.zeros((nr, nz))\n",
    "    for ir in range(nr):\n",
    "        r = (0.5+ir)*drv\n",
    "        Mr[ir] = r\n",
    "        for iz in range(nz):\n",
    "            z = (iz+0.5) *dz\n",
    "            Mz[iz]=z\n",
    "            s=0\n",
    "            for k1 in range(N1):\n",
    "                rc = R1 + (k1+0.5) *(R2-R1)/N1\n",
    "                Mrc[k1] = rc\n",
    "                for k2 in range(N2):\n",
    "                    fi = (k2 +0.5) * np.pi/N2\n",
    "                    Mfi[k2] = fi\n",
    "                    r0 = np.sqrt(\n",
    "                            z*z + r*r + rc*rc  - 2*r*rc*np.cos(fi))\n",
    "                    s += rc* z * np.exp(-r0/LAMBDA) /(\n",
    "                            LAMBDA * np.power(r0, 3))\n",
    "            J[ir, iz] = ((R2-R1)/N1) * (np.pi/N2) * s * 2 /np.pi\n",
    "    return(J, Mr, Mz, Mrc, Mfi)\n",
    "\n"
   ]
  },
  {
   "cell_type": "code",
   "execution_count": 53,
   "metadata": {},
   "outputs": [],
   "source": [
    "def for_loops_2(nr, nz, N1, N2):\n",
    "    #for test only\n",
    "    drv = dz = 2\n",
    "    R1 =15\n",
    "    R2 =20\n",
    "    LAMBDA = 5\n",
    "    \n",
    "    #code of interest:\n",
    "    Mr =  drv * (np.arange(nr)+0.5)\n",
    "    Mz = dz * (np.arange(nz)+0.5)\n",
    "    Mrc =  R1 + ((R2-R1)/N1) * (np.arange(N1)+0.5) \n",
    "    Mfi = (np.pi/N2) * (np.arange(N2)+0.5)\n",
    "    \n",
    "    J=np.zeros((nr, nz))\n",
    "    for ir in range(nr):\n",
    "        r = Mr[ir]\n",
    "        for iz in range(nz):\n",
    "            z = Mz[iz]\n",
    "            s=0\n",
    "            for k1 in range(N1):\n",
    "                rc = Mrc[k1]\n",
    "                for k2 in range(N2):\n",
    "                    fi = Mfi[k2]\n",
    "                    \n",
    "                    r0 = np.sqrt(\n",
    "                            z*z + r*r + rc*rc  - 2*r*rc*np.cos(fi))\n",
    "                    s += rc* z * np.exp(-r0/LAMBDA) /(\n",
    "                            LAMBDA * np.power(r0, 3))\n",
    "            J[ir, iz] = ((R2-R1)/N1) * (np.pi/N2) * s * 2 /np.pi\n",
    "    return(J, Mr, Mz, Mrc, Mfi)"
   ]
  },
  {
   "cell_type": "code",
   "execution_count": 54,
   "metadata": {},
   "outputs": [
    {
     "name": "stdout",
     "output_type": "stream",
     "text": [
      "[1. 3.]\n",
      "\n",
      "[1. 3.]\n"
     ]
    }
   ],
   "source": [
    "J1 = for_loops_1b(2,3,4,5)\n",
    "J2 = for_loops_2(2,3,4,5)\n",
    "\n",
    "print(J1[1])\n",
    "print()\n",
    "print(J2[1])"
   ]
  },
  {
   "cell_type": "code",
   "execution_count": 56,
   "metadata": {},
   "outputs": [
    {
     "name": "stdout",
     "output_type": "stream",
     "text": [
      "[[0. 0. 0.]\n",
      " [0. 0. 0.]]\n"
     ]
    }
   ],
   "source": [
    "print(J1[0]-J2[0])"
   ]
  },
  {
   "cell_type": "markdown",
   "metadata": {},
   "source": [
    "## 2. Build r0 as matrix Mr0"
   ]
  },
  {
   "cell_type": "code",
   "execution_count": 89,
   "metadata": {},
   "outputs": [],
   "source": [
    "def for_loops_3a(nr, nz, N1, N2):\n",
    "    #for test only\n",
    "    drv = dz = 2\n",
    "    R1 =15\n",
    "    R2 =20\n",
    "    LAMBDA = 5\n",
    "    \n",
    "    #code of interest:\n",
    "    Mr =  drv * (np.arange(nr)+0.5)\n",
    "    Mz = dz * (np.arange(nz)+0.5)\n",
    "    Mrc =  R1 + ((R2-R1)/N1) * (np.arange(N1)+0.5) \n",
    "    Mfi = (np.pi/N2) * (np.arange(N2)+0.5)\n",
    "    \n",
    "    Mr0 = np.zeros((nr, nz, N1, N2))\n",
    "    Ms = np.zeros((nr, nz))\n",
    "    \n",
    "    J=np.zeros((nr, nz))\n",
    "    for ir in range(nr):\n",
    "        r = Mr[ir]\n",
    "        for iz in range(nz):\n",
    "            z = Mz[iz]\n",
    "            s=0\n",
    "            for k1 in range(N1):\n",
    "                rc = Mrc[k1]\n",
    "                for k2 in range(N2):\n",
    "                    fi = Mfi[k2]\n",
    "                    \n",
    "                    r0 = np.sqrt(\n",
    "                            z*z + r*r + rc*rc - 2*r*rc*np.cos(fi))\n",
    "                    #r0 = 2*r*rc*np.cos(fi)\n",
    "                    Mr0[ir,iz,k1, k2] = r0\n",
    "                    #s += rc* z * np.exp(-r0/LAMBDA) /(\n",
    "                     #       LAMBDA * np.power(r0, 3))\n",
    "           # Ms[ir,iz] = s\n",
    "           # J[ir, iz] = ((R2-R1)/N1) * (np.pi/N2) * s * 2 /np.pi\n",
    "    return(Mr0)"
   ]
  },
  {
   "cell_type": "code",
   "execution_count": 90,
   "metadata": {},
   "outputs": [],
   "source": [
    "def vec_3a(nr, nz, N1, N2):\n",
    "    #for test only\n",
    "    drv = dz = 2\n",
    "    R1 =15\n",
    "    R2 =20\n",
    "    LAMBDA = 5\n",
    "    \n",
    "    #code of interest:\n",
    "    Mr =  drv * (np.arange(nr)+0.5)\n",
    "    Mz = dz * (np.arange(nz)+0.5)\n",
    "    Mrc =  R1 + ((R2-R1)/N1) * (np.arange(N1)+0.5) \n",
    "    Mfi = (np.pi/N2) * (np.arange(N2)+0.5)\n",
    "    \n",
    "    Ms = np.zeros((nr, nz))\n",
    "    \n",
    "    Mr00 = Mr.reshape((nr,1,1,1)) * Mrc.reshape((1,1,N1,1))\n",
    "    Mr01 = Mr00 * np.cos(Mfi).reshape((1,1,1,N2))\n",
    "    Mr00 = (Mz**2).reshape(1,nz,1,1) - 2 * Mr01\n",
    "    Mr01 = Mr00 + (Mr**2).reshape((nr,1,1,1)) \n",
    "    Mr00 = Mr01 + (Mrc**2).reshape((1,1,N1,1))\n",
    "    Mr0 = np.sqrt(Mr00)\n",
    "                    \n",
    "    return(Mr0)"
   ]
  },
  {
   "cell_type": "code",
   "execution_count": 91,
   "metadata": {},
   "outputs": [],
   "source": [
    "Mr00 = for_loops_3a(2,3,4,5)\n",
    "Mr01 = vec_3a(2,3,4,5)"
   ]
  },
  {
   "cell_type": "code",
   "execution_count": 92,
   "metadata": {},
   "outputs": [
    {
     "data": {
      "text/plain": [
       "(2, 3, 4, 5)"
      ]
     },
     "execution_count": 92,
     "metadata": {},
     "output_type": "execute_result"
    }
   ],
   "source": [
    "Mr01.shape"
   ]
  },
  {
   "cell_type": "code",
   "execution_count": 93,
   "metadata": {},
   "outputs": [
    {
     "data": {
      "text/plain": [
       "(2, 3, 4, 5)"
      ]
     },
     "execution_count": 93,
     "metadata": {},
     "output_type": "execute_result"
    }
   ],
   "source": [
    "Mr00.shape"
   ]
  },
  {
   "cell_type": "code",
   "execution_count": 94,
   "metadata": {},
   "outputs": [
    {
     "name": "stdout",
     "output_type": "stream",
     "text": [
      "3.552713678800501e-15\n",
      "0.0\n"
     ]
    }
   ],
   "source": [
    "print(np.max(Mr00-Mr01))\n",
    "print(np.min(Mr00-Mr01))"
   ]
  },
  {
   "cell_type": "markdown",
   "metadata": {},
   "source": [
    "## 3. Build s as matrix MS"
   ]
  },
  {
   "cell_type": "code",
   "execution_count": 95,
   "metadata": {},
   "outputs": [],
   "source": [
    "def for_loops_4(nr, nz, N1, N2):\n",
    "    #for test only\n",
    "    drv = dz = 2\n",
    "    R1 =15\n",
    "    R2 =20\n",
    "    LAMBDA = 5\n",
    "    \n",
    "    #code of interest:\n",
    "    Mr =  drv * (np.arange(nr)+0.5)\n",
    "    Mz = dz * (np.arange(nz)+0.5)\n",
    "    Mrc =  R1 + ((R2-R1)/N1) * (np.arange(N1)+0.5) \n",
    "    Mfi = (np.pi/N2) * (np.arange(N2)+0.5)\n",
    "    \n",
    "    Mr0 = np.zeros((nr, nz, N1, N2))\n",
    "    Ms = np.zeros((nr, nz))\n",
    "    \n",
    "    J=np.zeros((nr, nz))\n",
    "    for ir in range(nr):\n",
    "        r = Mr[ir]\n",
    "        for iz in range(nz):\n",
    "            z = Mz[iz]\n",
    "            s=0\n",
    "            for k1 in range(N1):\n",
    "                rc = Mrc[k1]\n",
    "                for k2 in range(N2):\n",
    "                    fi = Mfi[k2]\n",
    "                    \n",
    "                    r0 = np.sqrt(\n",
    "                            z*z + r*r + rc*rc - 2*r*rc*np.cos(fi))\n",
    "                    #r0 = 2*r*rc*np.cos(fi)\n",
    "                    Mr0[ir,iz,k1, k2] = r0\n",
    "                    s += rc* z * np.exp(-r0/LAMBDA) /(\n",
    "                            LAMBDA * np.power(r0, 3))\n",
    "            Ms[ir,iz] = s\n",
    "           # J[ir, iz] = ((R2-R1)/N1) * (np.pi/N2) * s * 2 /np.pi\n",
    "    return(Ms)"
   ]
  },
  {
   "cell_type": "code",
   "execution_count": 102,
   "metadata": {},
   "outputs": [],
   "source": [
    "def vec_4(nr, nz, N1, N2):\n",
    "    #for test only\n",
    "    drv = dz = 2\n",
    "    R1 =15\n",
    "    R2 =20\n",
    "    LAMBDA = 5\n",
    "    \n",
    "    #code of interest:\n",
    "    Mr =  drv * (np.arange(nr)+0.5)\n",
    "    Mz = dz * (np.arange(nz)+0.5)\n",
    "    Mrc =  R1 + ((R2-R1)/N1) * (np.arange(N1)+0.5) \n",
    "    Mfi = (np.pi/N2) * (np.arange(N2)+0.5)\n",
    "    \n",
    "    Ms = np.zeros((nr, nz))\n",
    "    \n",
    "    Mr00 = Mr.reshape((nr,1,1,1)) * Mrc.reshape((1,1,N1,1))\n",
    "    Mr01 = Mr00 * np.cos(Mfi).reshape((1,1,1,N2))\n",
    "    Mr00 = (Mz**2).reshape(1,nz,1,1) - 2 * Mr01\n",
    "    Mr01 = Mr00 + (Mr**2).reshape((nr,1,1,1)) \n",
    "    Mr00 = Mr01 + (Mrc**2).reshape((1,1,N1,1))\n",
    "    Mr0 = np.sqrt(Mr00)\n",
    "    \n",
    "    S0 = np.exp(-Mr0/LAMBDA\n",
    "               ) / (LAMBDA * np.power(Mr0, 3))\n",
    "    #print(S0.shape)\n",
    "    S1 = np.sum(S0, -1)\n",
    "    #print(S1.shape)\n",
    "    S0 = np.matmul(S1, Mrc)\n",
    "    #print(S0.shape)\n",
    "    S1 = S0 * Mz.reshape(1,nz)\n",
    "    #print(S1.shape)\n",
    "                    \n",
    "    return(S1)"
   ]
  },
  {
   "cell_type": "code",
   "execution_count": 104,
   "metadata": {},
   "outputs": [
    {
     "name": "stdout",
     "output_type": "stream",
     "text": [
      "(2, 3, 4, 5)\n",
      "(2, 3, 4)\n",
      "(2, 3)\n",
      "(2, 3)\n",
      "2.168404344971009e-19\n",
      "-4.336808689942018e-19\n"
     ]
    }
   ],
   "source": [
    "Ms1 =vec_4(2,3,4,5)\n",
    "Ms0 = for_loops_4(2,3,4,5)\n",
    "print(np.max(Ms0-Ms1))\n",
    "print(np.min(Ms0-Ms1))"
   ]
  },
  {
   "cell_type": "markdown",
   "metadata": {},
   "source": [
    "## 4. final"
   ]
  },
  {
   "cell_type": "code",
   "execution_count": 105,
   "metadata": {},
   "outputs": [],
   "source": [
    "def vec_fin(nr, nz, N1, N2):\n",
    "    #for test only\n",
    "    drv = dz = 2\n",
    "    R1 =15\n",
    "    R2 =20\n",
    "    LAMBDA = 5\n",
    "    \n",
    "    #code of interest:\n",
    "    Mr =  drv * (np.arange(nr)+0.5)\n",
    "    Mz = dz * (np.arange(nz)+0.5)\n",
    "    Mrc =  R1 + ((R2-R1)/N1) * (np.arange(N1)+0.5) \n",
    "    Mfi = (np.pi/N2) * (np.arange(N2)+0.5)\n",
    "    \n",
    "    Ms = np.zeros((nr, nz))\n",
    "    \n",
    "    Mr00 = Mr.reshape((nr,1,1,1)) * Mrc.reshape((1,1,N1,1))\n",
    "    Mr01 = Mr00 * np.cos(Mfi).reshape((1,1,1,N2))\n",
    "    Mr00 = (Mz**2).reshape(1,nz,1,1) - 2 * Mr01\n",
    "    Mr01 = Mr00 + (Mr**2).reshape((nr,1,1,1)) \n",
    "    Mr00 = Mr01 + (Mrc**2).reshape((1,1,N1,1))\n",
    "    Mr0 = np.sqrt(Mr00)\n",
    "    \n",
    "    S0 = np.exp(-Mr0/LAMBDA\n",
    "               ) / (LAMBDA * np.power(Mr0, 3))\n",
    "    #print(S0.shape)\n",
    "    S1 = np.sum(S0, -1)\n",
    "    #print(S1.shape)\n",
    "    S0 = np.matmul(S1, Mrc)\n",
    "    #print(S0.shape)\n",
    "    S1 = S0 * Mz.reshape(1,nz)\n",
    "    #print(S1.shape)\n",
    "    \n",
    "    J= (((R2-R1)/N1) * (np.pi/N2) * 2 /np.pi) * S1\n",
    "                    \n",
    "    return(J)\n",
    "\n",
    "#J[ir, iz] = ((R2-R1)/N1) * (np.pi/N2) * s * 2 /np.pi"
   ]
  },
  {
   "cell_type": "code",
   "execution_count": 106,
   "metadata": {},
   "outputs": [
    {
     "name": "stdout",
     "output_type": "stream",
     "text": [
      "1.0842021724855044e-19\n",
      "-2.168404344971009e-19\n"
     ]
    }
   ],
   "source": [
    "Jfor = for_loops_1(2,3,4,5)\n",
    "Jvec = vec_fin(2,3,4,5)\n",
    "\n",
    "print(np.max(Jfor-Jvec))\n",
    "print(np.min(Jfor-Jvec))"
   ]
  },
  {
   "cell_type": "code",
   "execution_count": 108,
   "metadata": {},
   "outputs": [
    {
     "name": "stdout",
     "output_type": "stream",
     "text": [
      "1.000000000000001\n",
      "0.9999999999999989\n"
     ]
    }
   ],
   "source": [
    "Jfor = for_loops_1(15,20,10,15)\n",
    "Jvec = vec_fin(15,20,10,15)\n",
    "\n",
    "print(np.max(Jfor/Jvec))\n",
    "print(np.min(Jfor/Jvec))"
   ]
  },
  {
   "cell_type": "code",
   "execution_count": 109,
   "metadata": {},
   "outputs": [
    {
     "name": "stdout",
     "output_type": "stream",
     "text": [
      "599 ms ± 180 ms per loop (mean ± std. dev. of 7 runs, 1 loop each)\n"
     ]
    }
   ],
   "source": [
    "%timeit for_loops_1(15,20,10,15)"
   ]
  },
  {
   "cell_type": "code",
   "execution_count": 110,
   "metadata": {},
   "outputs": [
    {
     "name": "stdout",
     "output_type": "stream",
     "text": [
      "2.58 ms ± 151 µs per loop (mean ± std. dev. of 7 runs, 100 loops each)\n"
     ]
    }
   ],
   "source": [
    "%timeit vec_fin(15,20,10,15)"
   ]
  },
  {
   "cell_type": "code",
   "execution_count": 111,
   "metadata": {},
   "outputs": [
    {
     "name": "stdout",
     "output_type": "stream",
     "text": [
      "9.75 s ± 1.42 s per loop (mean ± std. dev. of 7 runs, 1 loop each)\n",
      "55.5 ms ± 2.53 ms per loop (mean ± std. dev. of 7 runs, 10 loops each)\n"
     ]
    }
   ],
   "source": [
    "x=30\n",
    "%timeit for_loops_1(x,x,x,x)\n",
    "%timeit vec_fin(x,x,x,x)"
   ]
  },
  {
   "cell_type": "code",
   "execution_count": null,
   "metadata": {},
   "outputs": [],
   "source": []
  }
 ],
 "metadata": {
  "kernelspec": {
   "display_name": "Python 3",
   "language": "python",
   "name": "python3"
  },
  "language_info": {
   "codemirror_mode": {
    "name": "ipython",
    "version": 3
   },
   "file_extension": ".py",
   "mimetype": "text/x-python",
   "name": "python",
   "nbconvert_exporter": "python",
   "pygments_lexer": "ipython3",
   "version": "3.7.3"
  }
 },
 "nbformat": 4,
 "nbformat_minor": 4
}
