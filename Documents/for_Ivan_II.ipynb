{
 "cells": [
  {
   "cell_type": "markdown",
   "metadata": {},
   "source": [
    "**Note:** Updated with Hf, B coefficents provided by Ivan.\n",
    "\n",
    "# Request:\n",
    "Javier,\n",
    "\n",
    "Please make Casandra calculation of the deposition rate of 2 inch magnetrons with the pressure targets voltage and current as shown in the next slide.\n",
    "\n",
    "The target to substrate distance is 14 cm\n",
    "The racetrack dimensions say R1 = 10 mm and R2 = 20 mm.\n",
    "Base Pressure : 4.5 × 10-9 torr\n",
    "Working Pressure Ar: 2.5 × 10-3 torr\n",
    "\n",
    "You may calculate only one of the Boron cases – I assume they all will be very close.\n",
    "\n",
    "| HfB-1         | Boron |  Hafnium |\n",
    "|---------------|:-----:|:--------:|\n",
    "| Power         |   60  |     5    |\n",
    "| Voltage       |  335  |    221   |\n",
    "| Current ( mA) |  179  |   23.5   |\n",
    "\n",
    "| HfB-2        | Boron |  Hafnium |\n",
    "|--------------|:-----:|:--------:|\n",
    "| Power        |   60  |    10    |\n",
    "| Voltage      |  340  |   231.9  |\n",
    "| Current (mA) |  176  |    43    |\n",
    "\n",
    "| HfB-3        |  Boron | Hafnium |\n",
    "|--------------|:------:|:-------:|\n",
    "| Power        |   60   |    15   |\n",
    "| Voltage      |   347  |  237.8  |\n",
    "| Current (mA) |   172  |    64   |\n",
    "\n",
    "| HfB-4        |  Boron | Hafnium |\n",
    "|--------------|:------:|:-------:|\n",
    "| Power        |   60   |    20   |\n",
    "| Voltage      |   357  |   247   |\n",
    "| Current (mA) |   172  |    64   |\n",
    "\n",
    "# Step 1: Import needed modules (python libraries)"
   ]
  },
  {
   "cell_type": "code",
   "execution_count": 1,
   "metadata": {},
   "outputs": [],
   "source": [
    "import numpy as np\n",
    "import matplotlib.pyplot as plt\n",
    "import pysputt as ps\n",
    "import pandas as pd\n",
    "import copy"
   ]
  },
  {
   "cell_type": "markdown",
   "metadata": {},
   "source": [
    "# Define calculation parameters\n",
    "This is done by creating a CalcInput object and setting the properties. Right now it has to be done through code. The next step is to wrap it up in a graphical interface.\n",
    "\n",
    "**Note:** I don't have a COE file for B. I'm using Al values for U0, QZ, DEN\n",
    "## HfB-1, B"
   ]
  },
  {
   "cell_type": "code",
   "execution_count": 2,
   "metadata": {},
   "outputs": [],
   "source": [
    "input_data = ps.CalcInput()\n",
    "\n",
    "input_data.Gas_symbol = 'Ar'\n",
    "input_data.MG = 39.948 #atomic mass\n",
    "input_data.ZG = 18 #atomic number\n",
    "input_data.RG = 0.98 # atomic radius\n",
    "input_data.UG = 5 #\n",
    "input_data.QG = 1\n",
    "input_data.DENG = 5\n",
    "input_data.KAPA = 0.0002\n",
    "\n",
    "input_data.Target_symbol= 'B'\n",
    "input_data.MA = 10.8 #atomic mass\n",
    "input_data.ZA = 5\n",
    "input_data.RA = 1\n",
    "input_data.U0 = 5.26 \n",
    "input_data.QZ = 1.0 \n",
    "input_data.DEN = 2.37\n",
    "\n",
    "input_data.disch_volt = 335. #V\n",
    "input_data.disch_cur = 0.179 #Amp\n",
    "input_data.pres = 0.333 #Pa = 2.5 mTorr\n",
    "input_data.Eavg = 10. #This is a guess\n",
    "input_data.T0 = 300.\n",
    "\n",
    "input_data.Tcorrect = False # No T correction\n",
    "\n",
    "input_data.in_rad = 10 #mm\n",
    "input_data.out_rad = 20 #mm\n",
    "input_data.dist = 140 #mm\n",
    "input_data.L5 = 2.5\n",
    "input_data.N1 = 50\n",
    "input_data.N2 = 50\n",
    "input_data.grid_R2 = 1"
   ]
  },
  {
   "cell_type": "code",
   "execution_count": 3,
   "metadata": {},
   "outputs": [
    {
     "name": "stdout",
     "output_type": "stream",
     "text": [
      "Sputtering calculation input parameters:\n",
      "Atom\tM\tZ\tR\tU\tQ\tDEN\tKAPA\n",
      "Ar\t39.948\t18\t0.98\t5\t1\t5\t0.0002\n",
      "B\t10.8\t5\t1\t5.26\t2.37\t1.0\n",
      "Discharge voltage (V): 335.0\n",
      "Discharge current (A): 0.179\n",
      "Gas pressure (Pa): 0.333\n",
      "Average energy of sputtered atom (eV): 10.0\n",
      "Gas temperature (K): 300.0\n",
      "Perform T correction?: No\n",
      "Erosion disk inner radius (mm): 10\n",
      "Erosion disk outer radius (mm): 20\n",
      "Target to substrate distance(mm): 140\n",
      "Calculated radius / outer erosion radius: 2.5\n",
      "Number of steps for radial integration at target: 50\n",
      "Number of steps for polar integration at target: 50\n",
      "mm between calculated data points: 1\n"
     ]
    }
   ],
   "source": [
    "print(input_data)"
   ]
  },
  {
   "cell_type": "markdown",
   "metadata": {},
   "source": [
    "## The next line performs the calculation\n",
    "Unfortunately, there is no feedback as to how long he the calculation takes. But shouldn't be more than a minute or so, depending in how fine a grid we are using."
   ]
  },
  {
   "cell_type": "code",
   "execution_count": 4,
   "metadata": {},
   "outputs": [],
   "source": [
    "calc_sput = ps.Sputt_plan_circ(input_data)"
   ]
  },
  {
   "cell_type": "markdown",
   "metadata": {},
   "source": [
    "## After the calculation\n",
    "all calculated parameters are inside the returned object *calc_sput*. We can access the parameters of interest"
   ]
  },
  {
   "cell_type": "code",
   "execution_count": 5,
   "metadata": {},
   "outputs": [
    {
     "data": {
      "image/png": "[encoded data removed]",
      "text/plain": [
       "<Figure size 432x288 with 1 Axes>"
      ]
     },
     "metadata": {
      "needs_background": "light"
     },
     "output_type": "display_data"
    }
   ],
   "source": [
    "B_dep_rate = calc_sput.DEP1\n",
    "r = calc_sput.pR\n",
    "plt.plot(r, B_dep_rate,'o')\n",
    "plt.xlabel('Radius (mm)')\n",
    "plt.ylabel('Dep. rate (nm/s)')\n",
    "plt.title('HfB1 - B dep rate');"
   ]
  },
  {
   "cell_type": "markdown",
   "metadata": {},
   "source": [
    " ## Now for Hf\n",
    " First, we copy the input parameters and modify as needed\n",
    " "
   ]
  },
  {
   "cell_type": "code",
   "execution_count": 6,
   "metadata": {},
   "outputs": [],
   "source": [
    "Hf_input_data = copy.copy(input_data)"
   ]
  },
  {
   "cell_type": "code",
   "execution_count": 7,
   "metadata": {},
   "outputs": [],
   "source": [
    "Hf_input_data.Target_symbol= 'Hf'\n",
    "Hf_input_data.MA = 178.5 #atomic mass\n",
    "Hf_input_data.ZA = 72\n",
    "Hf_input_data.RA = 1\n",
    "Hf_input_data.U0 = 6.44 \n",
    "Hf_input_data.QZ = 0.64 \n",
    "Hf_input_data.DEN = 13.31\n",
    "\n",
    "Hf_input_data.disch_volt = 221. #V\n",
    "Hf_input_data.disch_cur = 0.0235 #Amp"
   ]
  },
  {
   "cell_type": "code",
   "execution_count": 8,
   "metadata": {},
   "outputs": [
    {
     "name": "stdout",
     "output_type": "stream",
     "text": [
      "Sputtering calculation input parameters:\n",
      "Atom\tM\tZ\tR\tU\tQ\tDEN\tKAPA\n",
      "Ar\t39.948\t18\t0.77\t5\t1\t5\t0.0002\n",
      "Hf\t178.5\t72\t1\t6.44\t13.31\t0.64\n",
      "Discharge voltage (V): 221.0\n",
      "Discharge current (A): 0.0235\n",
      "Gas pressure (Pa): 0.333\n",
      "Average energy of sputtered atom (eV): 10.0\n",
      "Gas temperature (K): 300.0\n",
      "Perform T correction?: No\n",
      "Erosion disk inner radius (mm): 10\n",
      "Erosion disk outer radius (mm): 20\n",
      "Target to substrate distance(mm): 140\n",
      "Calculated radius / outer erosion radius: 2.5\n",
      "Number of steps for radial integration at target: 50\n",
      "Number of steps for polar integration at target: 50\n",
      "mm between calculated data points: 1\n"
     ]
    }
   ],
   "source": [
    "print(Hf_input_data)"
   ]
  },
  {
   "cell_type": "markdown",
   "metadata": {},
   "source": [
    "## Perform the calculation, retrieve results, and plot"
   ]
  },
  {
   "cell_type": "code",
   "execution_count": 9,
   "metadata": {},
   "outputs": [
    {
     "data": {
      "image/png": "[encoded data removed]",
      "text/plain": [
       "<Figure size 432x288 with 1 Axes>"
      ]
     },
     "metadata": {
      "needs_background": "light"
     },
     "output_type": "display_data"
    }
   ],
   "source": [
    "Hf_calc_sput = ps.Sputt_plan_circ(Hf_input_data)\n",
    "Hf_dep_rate = Hf_calc_sput.DEP1\n",
    "r = Hf_calc_sput.pR\n",
    "plt.plot(r, Hf_dep_rate,'o')\n",
    "plt.xlabel('Radius (mm)')\n",
    "plt.ylabel('Dep. rate (nm/s)')\n",
    "plt.title('HfB1 - Hf dep rate');"
   ]
  },
  {
   "cell_type": "markdown",
   "metadata": {},
   "source": [
    "## Do you want to know the Hf/B ratio?"
   ]
  },
  {
   "cell_type": "code",
   "execution_count": 10,
   "metadata": {},
   "outputs": [
    {
     "data": {
      "image/png": "[encoded data removed]",
      "text/plain": [
       "<Figure size 432x288 with 1 Axes>"
      ]
     },
     "metadata": {
      "needs_background": "light"
     },
     "output_type": "display_data"
    }
   ],
   "source": [
    "plt.plot(r, Hf_dep_rate / B_dep_rate,'o')\n",
    "plt.xlabel('Radius (mm)')\n",
    "plt.ylabel('ratio')\n",
    "plt.title('HfB1 - Hf:B dep rate ratio');"
   ]
  },
  {
   "cell_type": "markdown",
   "metadata": {},
   "source": [
    "## Export calculated dep rates to excel file\n"
   ]
  },
  {
   "cell_type": "code",
   "execution_count": 11,
   "metadata": {},
   "outputs": [],
   "source": [
    "HfB_1 =pd.DataFrame(\n",
    "    data = {\n",
    "        'r (mm)': r,\n",
    "        'Hf (nm/s)': Hf_dep_rate,\n",
    "        'B (nm/s)': B_dep_rate\n",
    "    })"
   ]
  },
  {
   "cell_type": "code",
   "execution_count": 12,
   "metadata": {},
   "outputs": [],
   "source": [
    "writer = pd.ExcelWriter('Ivan_HfB.xlsx', engine='xlsxwriter')\n",
    "HfB_1.to_excel(writer, sheet_name='HfB_1')\n",
    "writer.save()"
   ]
  },
  {
   "cell_type": "markdown",
   "metadata": {},
   "source": [
    "# And now, the other conditions\n",
    "We only need to modify the input parameters and redo the calculation\n",
    "## HfB-2"
   ]
  },
  {
   "cell_type": "code",
   "execution_count": 13,
   "metadata": {},
   "outputs": [
    {
     "data": {
      "text/plain": [
       "<matplotlib.axes._subplots.AxesSubplot at 0x7ff1eb0ab450>"
      ]
     },
     "execution_count": 13,
     "metadata": {},
     "output_type": "execute_result"
    },
    {
     "data": {
      "image/png": "[encoded data removed]",
      "text/plain": [
       "<Figure size 432x288 with 1 Axes>"
      ]
     },
     "metadata": {
      "needs_background": "light"
     },
     "output_type": "display_data"
    }
   ],
   "source": [
    "# B\n",
    "input_data.disch_volt = 340. #V\n",
    "input_data.disch_cur = 0.176 #Amp\n",
    "calc_sput = ps.Sputt_plan_circ(input_data)\n",
    "\n",
    "#Hf \n",
    "Hf_input_data.disch_volt = 231.9 #V\n",
    "Hf_input_data.disch_cur = 0.043 #Amp\n",
    "Hf_calc_sput = ps.Sputt_plan_circ(Hf_input_data)\n",
    "\n",
    "#format for excel\n",
    "HfB_2 =pd.DataFrame(\n",
    "    data = {\n",
    "        'r (mm)': calc_sput.pR,\n",
    "        'Hf (nm/s)': Hf_calc_sput.DEP1,\n",
    "        'B (nm/s)': calc_sput.DEP1\n",
    "    })\n",
    "\n",
    "#plot to check\n",
    "HfB_2.plot(x='r (mm)', y=['Hf (nm/s)','B (nm/s)' ])"
   ]
  },
  {
   "cell_type": "markdown",
   "metadata": {},
   "source": [
    "## HfB-3"
   ]
  },
  {
   "cell_type": "code",
   "execution_count": 14,
   "metadata": {},
   "outputs": [
    {
     "data": {
      "text/plain": [
       "<matplotlib.axes._subplots.AxesSubplot at 0x7ff1eb135e50>"
      ]
     },
     "execution_count": 14,
     "metadata": {},
     "output_type": "execute_result"
    },
    {
     "data": {
      "image/png": "[encoded data removed]",
      "text/plain": [
       "<Figure size 432x288 with 1 Axes>"
      ]
     },
     "metadata": {
      "needs_background": "light"
     },
     "output_type": "display_data"
    }
   ],
   "source": [
    "# B\n",
    "input_data.disch_volt = 347. #V\n",
    "input_data.disch_cur = 0.172 #Amp\n",
    "calc_sput = ps.Sputt_plan_circ(input_data)\n",
    "\n",
    "#Hf \n",
    "Hf_input_data.disch_volt = 237.8 #V\n",
    "Hf_input_data.disch_cur = 0.064 #Amp\n",
    "Hf_calc_sput = ps.Sputt_plan_circ(Hf_input_data)\n",
    "\n",
    "#format for excel\n",
    "HfB_3 =pd.DataFrame(\n",
    "    data = {\n",
    "        'r (mm)': calc_sput.pR,\n",
    "        'Hf (nm/s)': Hf_calc_sput.DEP1,\n",
    "        'B (nm/s)': calc_sput.DEP1\n",
    "    })\n",
    "\n",
    "#plot to check\n",
    "HfB_3.plot(x='r (mm)', y=['Hf (nm/s)','B (nm/s)' ])"
   ]
  },
  {
   "cell_type": "markdown",
   "metadata": {},
   "source": [
    "## HfB-4"
   ]
  },
  {
   "cell_type": "code",
   "execution_count": 15,
   "metadata": {},
   "outputs": [
    {
     "data": {
      "text/plain": [
       "<matplotlib.axes._subplots.AxesSubplot at 0x7ff1f7bb0290>"
      ]
     },
     "execution_count": 15,
     "metadata": {},
     "output_type": "execute_result"
    },
    {
     "data": {
      "image/png": "[encoded data removed]",
      "text/plain": [
       "<Figure size 432x288 with 1 Axes>"
      ]
     },
     "metadata": {
      "needs_background": "light"
     },
     "output_type": "display_data"
    }
   ],
   "source": [
    "# B\n",
    "input_data.disch_volt = 357. #V\n",
    "input_data.disch_cur = 0.168 #Amp\n",
    "calc_sput = ps.Sputt_plan_circ(input_data)\n",
    "\n",
    "#Hf \n",
    "Hf_input_data.disch_volt = 247 #V\n",
    "Hf_input_data.disch_cur = 0.0816 #Amp\n",
    "Hf_calc_sput = ps.Sputt_plan_circ(Hf_input_data)\n",
    "\n",
    "#format for excel\n",
    "HfB_4 =pd.DataFrame(\n",
    "    data = {\n",
    "        'r (mm)': calc_sput.pR,\n",
    "        'Hf (nm/s)': Hf_calc_sput.DEP1,\n",
    "        'B (nm/s)': calc_sput.DEP1\n",
    "    })\n",
    "\n",
    "#plot to check\n",
    "HfB_4.plot(x='r (mm)', y=['Hf (nm/s)','B (nm/s)' ])"
   ]
  },
  {
   "cell_type": "markdown",
   "metadata": {},
   "source": [
    "# Export all results to excel"
   ]
  },
  {
   "cell_type": "code",
   "execution_count": 16,
   "metadata": {},
   "outputs": [],
   "source": [
    "writer = pd.ExcelWriter('Ivan_HfB.xlsx', engine='xlsxwriter')\n",
    "\n",
    "HfB_1.to_excel(writer, sheet_name='HfB_1')\n",
    "HfB_2.to_excel(writer, sheet_name='HfB_2')\n",
    "HfB_3.to_excel(writer, sheet_name='HfB_3')\n",
    "HfB_4.to_excel(writer, sheet_name='HfB_4')\n",
    "\n",
    "writer.save()"
   ]
  },
  {
   "cell_type": "code",
   "execution_count": null,
   "metadata": {},
   "outputs": [],
   "source": []
  }
 ],
 "metadata": {
  "kernelspec": {
   "display_name": "Python 3",
   "language": "python",
   "name": "python3"
  },
  "language_info": {
   "codemirror_mode": {
    "name": "ipython",
    "version": 3
   },
   "file_extension": ".py",
   "mimetype": "text/x-python",
   "name": "python",
   "nbconvert_exporter": "python",
   "pygments_lexer": "ipython3",
   "version": "3.7.6"
  }
 },
 "nbformat": 4,
 "nbformat_minor": 4
}
