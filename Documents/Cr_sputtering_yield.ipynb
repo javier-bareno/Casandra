{
 "cells": [
  {
   "cell_type": "code",
   "execution_count": 1,
   "metadata": {},
   "outputs": [],
   "source": [
    "import numpy as np\n",
    "import matplotlib.pyplot as plt\n",
    "import pysputt as ps\n",
    "import pandas as pd"
   ]
  },
  {
   "cell_type": "markdown",
   "metadata": {},
   "source": [
    "# Calculated sputtering yields"
   ]
  },
  {
   "cell_type": "code",
   "execution_count": 11,
   "metadata": {},
   "outputs": [
    {
     "data": {
      "text/html": [
       "<div>\n",
       "<style scoped>\n",
       "    .dataframe tbody tr th:only-of-type {\n",
       "        vertical-align: middle;\n",
       "    }\n",
       "\n",
       "    .dataframe tbody tr th {\n",
       "        vertical-align: top;\n",
       "    }\n",
       "\n",
       "    .dataframe thead th {\n",
       "        text-align: right;\n",
       "    }\n",
       "</style>\n",
       "<table border=\"1\" class=\"dataframe\">\n",
       "  <thead>\n",
       "    <tr style=\"text-align: right;\">\n",
       "      <th></th>\n",
       "      <th>700_eV</th>\n",
       "      <th>1_keV</th>\n",
       "      <th>1.4_keV</th>\n",
       "      <th>2_keV</th>\n",
       "    </tr>\n",
       "    <tr>\n",
       "      <th>Ion</th>\n",
       "      <th></th>\n",
       "      <th></th>\n",
       "      <th></th>\n",
       "      <th></th>\n",
       "    </tr>\n",
       "  </thead>\n",
       "  <tbody>\n",
       "    <tr>\n",
       "      <td>Ar</td>\n",
       "      <td>1.835944</td>\n",
       "      <td>2.226521</td>\n",
       "      <td></td>\n",
       "      <td></td>\n",
       "    </tr>\n",
       "    <tr>\n",
       "      <td>Cr</td>\n",
       "      <td>1.922146</td>\n",
       "      <td>2.379980</td>\n",
       "      <td>2.84555</td>\n",
       "      <td>3.36837</td>\n",
       "    </tr>\n",
       "  </tbody>\n",
       "</table>\n",
       "</div>"
      ],
      "text/plain": [
       "       700_eV     1_keV  1.4_keV    2_keV\n",
       "Ion                                      \n",
       "Ar   1.835944  2.226521                  \n",
       "Cr   1.922146  2.379980  2.84555  3.36837"
      ]
     },
     "execution_count": 11,
     "metadata": {},
     "output_type": "execute_result"
    }
   ],
   "source": [
    "spt_yields"
   ]
  },
  {
   "cell_type": "markdown",
   "metadata": {},
   "source": [
    "# Cr target, Ar gas \n",
    "## 700 eV"
   ]
  },
  {
   "cell_type": "code",
   "execution_count": 2,
   "metadata": {},
   "outputs": [],
   "source": [
    "input_data = ps.CalcInput()\n",
    "\n",
    "input_data.Gas_symbol = 'Ar'\n",
    "input_data.MG = 39.948 #atomic mass\n",
    "input_data.ZG = 18 #atomic number\n",
    "input_data.RG = 0.98 # atomic radius\n",
    "input_data.UG = 5 #\n",
    "input_data.QG = 1\n",
    "input_data.DENG = 5\n",
    "input_data.KAPA = 0.0002\n",
    "\n",
    "input_data.Target_symbol= 'Cr'\n",
    "input_data.MA = 52 #atomic mass\n",
    "input_data.ZA = 24\n",
    "input_data.RA = 2\n",
    "input_data.U0 = 4.1\n",
    "input_data.QZ = 1.22\n",
    "input_data.DEN = 9.\n",
    "\n",
    "input_data.disch_volt = 700.\n",
    "input_data.disch_cur = 1.1\n",
    "input_data.pres = 1.2\n",
    "input_data.Eavg = 10.\n",
    "input_data.T0 = 300.\n",
    "\n",
    "input_data.Tcorrect = False\n",
    "\n",
    "input_data.in_rad = 20\n",
    "input_data.out_rad = 30\n",
    "input_data.dist = 150\n",
    "input_data.L5 = 2\n",
    "input_data.N1 = 10\n",
    "input_data.N2 = 20\n",
    "input_data.grid_R2 = 2"
   ]
  },
  {
   "cell_type": "code",
   "execution_count": 3,
   "metadata": {},
   "outputs": [],
   "source": [
    "calc_sput = ps.Sputt_plan_circ(input_data)"
   ]
  },
  {
   "cell_type": "code",
   "execution_count": 4,
   "metadata": {},
   "outputs": [
    {
     "name": "stdout",
     "output_type": "stream",
     "text": [
      "Sputtering yield:  [1.8359444751023997]\n"
     ]
    }
   ],
   "source": [
    "print('Sputtering yield: ', calc_sput.Y)"
   ]
  },
  {
   "cell_type": "code",
   "execution_count": 5,
   "metadata": {},
   "outputs": [
    {
     "data": {
      "text/html": [
       "<div>\n",
       "<style scoped>\n",
       "    .dataframe tbody tr th:only-of-type {\n",
       "        vertical-align: middle;\n",
       "    }\n",
       "\n",
       "    .dataframe tbody tr th {\n",
       "        vertical-align: top;\n",
       "    }\n",
       "\n",
       "    .dataframe thead th {\n",
       "        text-align: right;\n",
       "    }\n",
       "</style>\n",
       "<table border=\"1\" class=\"dataframe\">\n",
       "  <thead>\n",
       "    <tr style=\"text-align: right;\">\n",
       "      <th></th>\n",
       "      <th>700_eV</th>\n",
       "    </tr>\n",
       "    <tr>\n",
       "      <th>Ion</th>\n",
       "      <th></th>\n",
       "    </tr>\n",
       "  </thead>\n",
       "  <tbody>\n",
       "    <tr>\n",
       "      <td>Ar</td>\n",
       "      <td>1.835944</td>\n",
       "    </tr>\n",
       "  </tbody>\n",
       "</table>\n",
       "</div>"
      ],
      "text/plain": [
       "       700_eV\n",
       "Ion          \n",
       "Ar   1.835944"
      ]
     },
     "execution_count": 5,
     "metadata": {},
     "output_type": "execute_result"
    }
   ],
   "source": [
    "spt_yields = pd.DataFrame()\n",
    "spt_yields.loc['Ar', '700_eV'] = calc_sput.Y[-1]\n",
    "spt_yields.index.rename('Ion', inplace=True)\n",
    "spt_yields"
   ]
  },
  {
   "cell_type": "markdown",
   "metadata": {},
   "source": [
    "## 1 keV"
   ]
  },
  {
   "cell_type": "code",
   "execution_count": 6,
   "metadata": {},
   "outputs": [
    {
     "name": "stdout",
     "output_type": "stream",
     "text": [
      "Sputtering yield:  [2.226521414804379]\n"
     ]
    },
    {
     "data": {
      "text/html": [
       "<div>\n",
       "<style scoped>\n",
       "    .dataframe tbody tr th:only-of-type {\n",
       "        vertical-align: middle;\n",
       "    }\n",
       "\n",
       "    .dataframe tbody tr th {\n",
       "        vertical-align: top;\n",
       "    }\n",
       "\n",
       "    .dataframe thead th {\n",
       "        text-align: right;\n",
       "    }\n",
       "</style>\n",
       "<table border=\"1\" class=\"dataframe\">\n",
       "  <thead>\n",
       "    <tr style=\"text-align: right;\">\n",
       "      <th></th>\n",
       "      <th>700_eV</th>\n",
       "      <th>1_keV</th>\n",
       "    </tr>\n",
       "    <tr>\n",
       "      <th>Ion</th>\n",
       "      <th></th>\n",
       "      <th></th>\n",
       "    </tr>\n",
       "  </thead>\n",
       "  <tbody>\n",
       "    <tr>\n",
       "      <td>Ar</td>\n",
       "      <td>1.835944</td>\n",
       "      <td>2.226521</td>\n",
       "    </tr>\n",
       "  </tbody>\n",
       "</table>\n",
       "</div>"
      ],
      "text/plain": [
       "       700_eV     1_keV\n",
       "Ion                    \n",
       "Ar   1.835944  2.226521"
      ]
     },
     "execution_count": 6,
     "metadata": {},
     "output_type": "execute_result"
    }
   ],
   "source": [
    "input_data.disch_volt = 1000\n",
    "calc_sput = ps.Sputt_plan_circ(input_data)\n",
    "print('Sputtering yield: ', calc_sput.Y)\n",
    "spt_yields.loc['Ar', '1_keV'] = calc_sput.Y[-1]\n",
    "spt_yields"
   ]
  },
  {
   "cell_type": "markdown",
   "metadata": {},
   "source": [
    "# Cr target, Ar gas \n",
    "## 700 eV\n",
    "Note: Kapa not reported for Cr in Cr.COE file; using Ar value. Probably not a problem, since we are not performing T-correction."
   ]
  },
  {
   "cell_type": "code",
   "execution_count": 7,
   "metadata": {},
   "outputs": [
    {
     "name": "stdout",
     "output_type": "stream",
     "text": [
      "Sputtering yield:  [1.9221463872900437]\n"
     ]
    },
    {
     "data": {
      "text/html": [
       "<div>\n",
       "<style scoped>\n",
       "    .dataframe tbody tr th:only-of-type {\n",
       "        vertical-align: middle;\n",
       "    }\n",
       "\n",
       "    .dataframe tbody tr th {\n",
       "        vertical-align: top;\n",
       "    }\n",
       "\n",
       "    .dataframe thead th {\n",
       "        text-align: right;\n",
       "    }\n",
       "</style>\n",
       "<table border=\"1\" class=\"dataframe\">\n",
       "  <thead>\n",
       "    <tr style=\"text-align: right;\">\n",
       "      <th></th>\n",
       "      <th>700_eV</th>\n",
       "      <th>1_keV</th>\n",
       "    </tr>\n",
       "    <tr>\n",
       "      <th>Ion</th>\n",
       "      <th></th>\n",
       "      <th></th>\n",
       "    </tr>\n",
       "  </thead>\n",
       "  <tbody>\n",
       "    <tr>\n",
       "      <td>Ar</td>\n",
       "      <td>1.835944</td>\n",
       "      <td>2.226521</td>\n",
       "    </tr>\n",
       "    <tr>\n",
       "      <td>Cr</td>\n",
       "      <td>1.922146</td>\n",
       "      <td>NaN</td>\n",
       "    </tr>\n",
       "  </tbody>\n",
       "</table>\n",
       "</div>"
      ],
      "text/plain": [
       "       700_eV     1_keV\n",
       "Ion                    \n",
       "Ar   1.835944  2.226521\n",
       "Cr   1.922146       NaN"
      ]
     },
     "execution_count": 7,
     "metadata": {},
     "output_type": "execute_result"
    }
   ],
   "source": [
    "input_data.Gas_symbol = 'Cr'\n",
    "input_data.MG = 52 #atomic mass\n",
    "input_data.ZG = 24 #atomic number\n",
    "input_data.RG = 2 # atomic radius\n",
    "input_data.UG = 4.1 #\n",
    "input_data.QG = 1.22\n",
    "input_data.DENG = 9\n",
    "input_data.KAPA = 0.0002\n",
    "\n",
    "input_data.disch_volt = 700\n",
    "calc_sput = ps.Sputt_plan_circ(input_data)\n",
    "print('Sputtering yield: ', calc_sput.Y)\n",
    "spt_yields.loc['Cr', '700_eV'] = calc_sput.Y[-1]\n",
    "spt_yields"
   ]
  },
  {
   "cell_type": "markdown",
   "metadata": {},
   "source": [
    "## 1 keV"
   ]
  },
  {
   "cell_type": "code",
   "execution_count": 8,
   "metadata": {},
   "outputs": [
    {
     "name": "stdout",
     "output_type": "stream",
     "text": [
      "Sputtering yield:  [2.379980249590441]\n"
     ]
    },
    {
     "data": {
      "text/html": [
       "<div>\n",
       "<style scoped>\n",
       "    .dataframe tbody tr th:only-of-type {\n",
       "        vertical-align: middle;\n",
       "    }\n",
       "\n",
       "    .dataframe tbody tr th {\n",
       "        vertical-align: top;\n",
       "    }\n",
       "\n",
       "    .dataframe thead th {\n",
       "        text-align: right;\n",
       "    }\n",
       "</style>\n",
       "<table border=\"1\" class=\"dataframe\">\n",
       "  <thead>\n",
       "    <tr style=\"text-align: right;\">\n",
       "      <th></th>\n",
       "      <th>700_eV</th>\n",
       "      <th>1_keV</th>\n",
       "    </tr>\n",
       "    <tr>\n",
       "      <th>Ion</th>\n",
       "      <th></th>\n",
       "      <th></th>\n",
       "    </tr>\n",
       "  </thead>\n",
       "  <tbody>\n",
       "    <tr>\n",
       "      <td>Ar</td>\n",
       "      <td>1.835944</td>\n",
       "      <td>2.226521</td>\n",
       "    </tr>\n",
       "    <tr>\n",
       "      <td>Cr</td>\n",
       "      <td>1.922146</td>\n",
       "      <td>2.379980</td>\n",
       "    </tr>\n",
       "  </tbody>\n",
       "</table>\n",
       "</div>"
      ],
      "text/plain": [
       "       700_eV     1_keV\n",
       "Ion                    \n",
       "Ar   1.835944  2.226521\n",
       "Cr   1.922146  2.379980"
      ]
     },
     "execution_count": 8,
     "metadata": {},
     "output_type": "execute_result"
    }
   ],
   "source": [
    "input_data.disch_volt = 1000\n",
    "calc_sput = ps.Sputt_plan_circ(input_data)\n",
    "print('Sputtering yield: ', calc_sput.Y)\n",
    "spt_yields.loc['Cr', '1_keV'] = calc_sput.Y[-1]\n",
    "spt_yields"
   ]
  },
  {
   "cell_type": "markdown",
   "metadata": {},
   "source": [
    "## 1.4 keV and 2 keV"
   ]
  },
  {
   "cell_type": "code",
   "execution_count": 9,
   "metadata": {},
   "outputs": [
    {
     "name": "stdout",
     "output_type": "stream",
     "text": [
      "Sputtering yield:  [2.8455530919965732]\n",
      "Sputtering yield:  [3.368368742015276]\n"
     ]
    },
    {
     "data": {
      "text/html": [
       "<div>\n",
       "<style scoped>\n",
       "    .dataframe tbody tr th:only-of-type {\n",
       "        vertical-align: middle;\n",
       "    }\n",
       "\n",
       "    .dataframe tbody tr th {\n",
       "        vertical-align: top;\n",
       "    }\n",
       "\n",
       "    .dataframe thead th {\n",
       "        text-align: right;\n",
       "    }\n",
       "</style>\n",
       "<table border=\"1\" class=\"dataframe\">\n",
       "  <thead>\n",
       "    <tr style=\"text-align: right;\">\n",
       "      <th></th>\n",
       "      <th>700_eV</th>\n",
       "      <th>1_keV</th>\n",
       "      <th>1.4_keV</th>\n",
       "      <th>2_keV</th>\n",
       "    </tr>\n",
       "    <tr>\n",
       "      <th>Ion</th>\n",
       "      <th></th>\n",
       "      <th></th>\n",
       "      <th></th>\n",
       "      <th></th>\n",
       "    </tr>\n",
       "  </thead>\n",
       "  <tbody>\n",
       "    <tr>\n",
       "      <td>Ar</td>\n",
       "      <td>1.835944</td>\n",
       "      <td>2.226521</td>\n",
       "      <td></td>\n",
       "      <td></td>\n",
       "    </tr>\n",
       "    <tr>\n",
       "      <td>Cr</td>\n",
       "      <td>1.922146</td>\n",
       "      <td>2.379980</td>\n",
       "      <td>2.84555</td>\n",
       "      <td>3.36837</td>\n",
       "    </tr>\n",
       "  </tbody>\n",
       "</table>\n",
       "</div>"
      ],
      "text/plain": [
       "       700_eV     1_keV  1.4_keV    2_keV\n",
       "Ion                                      \n",
       "Ar   1.835944  2.226521                  \n",
       "Cr   1.922146  2.379980  2.84555  3.36837"
      ]
     },
     "execution_count": 9,
     "metadata": {},
     "output_type": "execute_result"
    }
   ],
   "source": [
    "input_data.disch_volt = 1400\n",
    "calc_sput = ps.Sputt_plan_circ(input_data)\n",
    "print('Sputtering yield: ', calc_sput.Y)\n",
    "spt_yields.loc['Cr', '1.4_keV'] = calc_sput.Y[-1]\n",
    "\n",
    "input_data.disch_volt = 2000\n",
    "calc_sput = ps.Sputt_plan_circ(input_data)\n",
    "print('Sputtering yield: ', calc_sput.Y)\n",
    "spt_yields.loc['Cr', '2_keV'] = calc_sput.Y[-1]\n",
    "\n",
    "spt_yields.fillna('', inplace = True)\n",
    "spt_yields"
   ]
  },
  {
   "cell_type": "code",
   "execution_count": 10,
   "metadata": {},
   "outputs": [],
   "source": [
    "spt_yields.to_excel('Cr_sputtering_yield.xls')"
   ]
  }
 ],
 "metadata": {
  "kernelspec": {
   "display_name": "Python 3",
   "language": "python",
   "name": "python3"
  },
  "language_info": {
   "codemirror_mode": {
    "name": "ipython",
    "version": 3
   },
   "file_extension": ".py",
   "mimetype": "text/x-python",
   "name": "python",
   "nbconvert_exporter": "python",
   "pygments_lexer": "ipython3",
   "version": "3.7.3"
  }
 },
 "nbformat": 4,
 "nbformat_minor": 4
}
