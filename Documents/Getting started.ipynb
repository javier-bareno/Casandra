{
 "cells": [
  {
   "cell_type": "markdown",
   "metadata": {},
   "source": [
    "# Introduction\n",
    "This document is a jupyter notebook. You can open it in Jupyter lab to check and run it, or read along the pdf version. In the next paragraphs, it will guide you to install and run Jupyter Lab, and to run casandra from your own notebooks.\n",
    "\n",
    "# Installation\n",
    "\n",
    "In order to run the python version of Casandra, you will need a Python environment runing in your computer. Even a final version with a graphical interface, etc. will need python to run. This is why the same code can run on any platform.\n",
    "\n",
    "The easiest way to install and maintain a python environment is to download the Anaconda distribution from https://www.anaconda.com/distribution Choose Python 3.7 version.\n",
    "\n",
    "Then, unzip the casndra folder (provided by email) and copy it somewhere in your system."
   ]
  },
  {
   "cell_type": "markdown",
   "metadata": {},
   "source": [
    "# Jupyter lab\n",
    "Once installed run the Anaconda navigator and use it to open Juoyter lab\n",
    "![Anaconda navigator](/Users/MIMAT_JB/Desktop/Github/pyCasandra/Documents/screen_captures/Anaconda_NAvigator.png)\n",
    "\n",
    "Jupyter lab is a juppyter notebook editor. On the left, you have a file tree-view to navigate the file system. Use it to go to the casandra folder that ypu copied to your computer.\n",
    "\n",
    "On the right, you have a series of tabs contaning your open documents and the launcher (see below). Depending on which packages you have installes, you may have more or less options for file types and languages.\n",
    "\n",
    "Select a Python3 notebook:\n",
    "![Juoyter notebook new](/Users/MIMAT_JB/Desktop/Github/pyCasandra/Documents/screen_captures/JN_start.png)\n",
    "\n"
   ]
  },
  {
   "cell_type": "markdown",
   "metadata": {},
   "source": [
    "This will create a new file and open it in a new tab. By default, the new file will have a name like Untitled1. Right click on the tab to open a context menu and select Rename File. The file of the name will be the title of the document when you export it as pdf.\n",
    "![Rename file](/Users/MIMAT_JB/Desktop/Github/pyCasandra/Documents/screen_captures/ipnb_rename.png)"
   ]
  },
  {
   "cell_type": "markdown",
   "metadata": {},
   "source": [
    "The new document contains an empty cell. By default, the cells are Code cells. You can make them text cells by slecting Markdown from the pull down menu.\n",
    "\n",
    "Each cell contains instructions that get executed by pressing shift + enter with the cell selected. Code cells will contain the input and output. Markdown cells will be rendered as text.\n",
    "\n",
    "To see the code of a cell again, double click it.\n",
    "\n",
    "## Markdown\n",
    "Markdown is a text markup language that you can use to specify titles, *italics*, **bold**, etc. You can check the syntax here: https://github.com/adam-p/markdown-here/wiki/Markdown-Cheatsheet\n",
    "\n",
    "![Rename file](screen_captures/text_rendered.png)\n"
   ]
  },
  {
   "cell_type": "markdown",
   "metadata": {},
   "source": [
    "# Coding in python\n",
    "\n",
    "You can think as code cells as diferent views of an interpreter session. All cells in a document share the same state. Variables defined in a cell are known to all cells, above or below. This means that if you change the value of a variable and re-run a previous cell, it will use the new value.\n",
    "\n",
    "## Hello World\n",
    "The simplest program, written in a code cell:"
   ]
  },
  {
   "cell_type": "code",
   "execution_count": 1,
   "metadata": {},
   "outputs": [
    {
     "name": "stdout",
     "output_type": "stream",
     "text": [
      "Hello world\n"
     ]
    }
   ],
   "source": [
    "print('Hello world')"
   ]
  },
  {
   "cell_type": "markdown",
   "metadata": {},
   "source": [
    "## Importing modules and name_scopes\n",
    "in order to expand functionality, you can import modules. THis makes the module contents (functions, global variables, etc.) available to your session. The syntax of interest is:\n",
    "```python \n",
    "import module_name as alias\n",
    "```\n",
    "\n",
    "If module_name is a standard library odule, it will reside in the search path and will be found. If it is a custom module (like pysputt, where Casandra lives), it must be *in the same folder as the notebook*, or you need to play some system tricks.\n",
    "\n",
    "Let's try this with the mtaplotlib.pyplot module, which provides tools to generate Matlab-style plots:"
   ]
  },
  {
   "cell_type": "code",
   "execution_count": 2,
   "metadata": {},
   "outputs": [
    {
     "data": {
      "text/plain": [
       "[<matplotlib.lines.Line2D at 0x11ae49080>]"
      ]
     },
     "execution_count": 2,
     "metadata": {},
     "output_type": "execute_result"
    },
    {
     "data": {
      "image/png": "[encoded data removed]",
      "text/plain": [
       "<Figure size 432x288 with 1 Axes>"
      ]
     },
     "metadata": {
      "needs_background": "light"
     },
     "output_type": "display_data"
    }
   ],
   "source": [
    "import matplotlib.pyplot as plt\n",
    "x=[1,2,3,4]\n",
    "y=[1,4,9,16]\n",
    "plt.plot(x,y,'*')"
   ]
  },
  {
   "cell_type": "markdown",
   "metadata": {},
   "source": [
    "The first line imports the module and assigns it to the plt alieas.\n",
    "\n",
    "The next two lines define x and y as lists containing 4 values each.\n",
    "\n",
    "The last line calls creates the plot. The dot (operator) tells the interpreter to look for the plot function inside plt, which we previously defined as the matplotlib.pyplot module. Then, we pass the x and y variables to define the data points, and a text string to define the kind of plot: a scatter plot suing asterisks as data markers.\n",
    "\n",
    "## Using Casandra\n",
    "\n",
    "We need to import three modules:\n",
    "* numpy gives us tools to work with vectors an matrices, may come useful to do calculations on results\n",
    "* matplotlib.pyplot to plot results. (We have already imported it a couple of cells above, so we do not need to import it again, but we can anyway)\n",
    "* pysputt: the Casandra core"
   ]
  },
  {
   "cell_type": "code",
   "execution_count": 3,
   "metadata": {},
   "outputs": [],
   "source": [
    "import numpy as np\n",
    "import matplotlib.pyplot as plt\n",
    "import pysputt as ps"
   ]
  },
  {
   "cell_type": "markdown",
   "metadata": {},
   "source": [
    "### Defining the input\n",
    "The input for the calculation is stored in a CalcInput object. Objects are structures that contain variables (called members) and functions (called methods). Typically, you use the object variables to control the behavior of its functions.\n",
    "\n",
    "First, we define/declare input_data as a CalcInput object. Remember that CalcInput is defined in the pysputt module, which we imported as ps. Therefore, we need to qualify it as ps.CalcInput: "
   ]
  },
  {
   "cell_type": "code",
   "execution_count": 4,
   "metadata": {},
   "outputs": [],
   "source": [
    "input_data = ps.CalcInput()"
   ]
  },
  {
   "cell_type": "markdown",
   "metadata": {},
   "source": [
    "Inside input_data are a series of variables containing the inputs of the calculation. We can access them with the dot operator, and assign values as below.\n",
    "\n",
    "The # character indicates a comment. Everything after it in a line is ignored."
   ]
  },
  {
   "cell_type": "code",
   "execution_count": 5,
   "metadata": {},
   "outputs": [],
   "source": [
    "input_data.Gas_symbol = 'Ar'\n",
    "input_data.MG = 39.948 #atomic mass\n",
    "input_data.ZG = 18 #atomic number\n",
    "input_data.RG = 0.98 # atomic radius\n",
    "input_data.UG = 5 #\n",
    "input_data.QG = 1\n",
    "input_data.DENG = 5\n",
    "input_data.KAPA = 0.0002\n",
    "\n",
    "input_data.Target_symbol= 'Si'\n",
    "input_data.MA = 28 #atomic mass\n",
    "input_data.ZA = 14\n",
    "input_data.RA = 2\n",
    "input_data.U0 = 4.63\n",
    "input_data.QZ = 0.75\n",
    "input_data.DEN = 2.33\n",
    "\n",
    "input_data.disch_volt = 100.\n",
    "input_data.disch_cur = 1.1\n",
    "input_data.pres = 1.2\n",
    "input_data.Eavg = 10.\n",
    "input_data.T0 = 300.\n",
    "\n",
    "input_data.Tcorrect = False\n",
    "\n",
    "input_data.in_rad = 20\n",
    "input_data.out_rad = 30\n",
    "input_data.dist = 150\n",
    "input_data.L5 = 2\n",
    "input_data.N1 = 10\n",
    "input_data.N2 = 20\n",
    "input_data.grid_R2 = 2"
   ]
  },
  {
   "cell_type": "markdown",
   "metadata": {},
   "source": [
    "### Runing the calculation\n",
    "The calculation is contained in a Sputt_plan_circ object. The name stands for Sputter plane circular target. We can create other calculation objects to handle different geometries.\n",
    "\n",
    "To create a calculation, we define a variable of type Sputt_plan_circ, as we defined a CalcInput above. In this case, we need to pass a CalcInput variable (input_data) to indicate the input to the calculation."
   ]
  },
  {
   "cell_type": "code",
   "execution_count": 6,
   "metadata": {},
   "outputs": [],
   "source": [
    "calc_sput = ps.Sputt_plan_circ(input_data)"
   ]
  },
  {
   "cell_type": "markdown",
   "metadata": {},
   "source": [
    "When creating the variable, the calculation is run. The results are contained as members of the newly created variable. For example, the total deposition rate is in the DEP! variable:"
   ]
  },
  {
   "cell_type": "code",
   "execution_count": 7,
   "metadata": {},
   "outputs": [
    {
     "data": {
      "text/plain": [
       "array([0.0270664 , 0.02705489, 0.02702039, 0.026963  , 0.02688292,\n",
       "       0.02678038, 0.02665571, 0.0265093 , 0.0263416 , 0.02615311,\n",
       "       0.02594442, 0.02571616, 0.02546899, 0.02520366, 0.02492094,\n",
       "       0.02462163, 0.02430659, 0.0239767 , 0.02363287, 0.02327601,\n",
       "       0.02290709, 0.02252704, 0.02213685, 0.02173747, 0.02132987,\n",
       "       0.02091501, 0.02049385, 0.02006732, 0.01963634, 0.01920182,\n",
       "       0.01876463])"
      ]
     },
     "execution_count": 7,
     "metadata": {},
     "output_type": "execute_result"
    }
   ],
   "source": [
    "calc_sput.DEP1"
   ]
  },
  {
   "cell_type": "markdown",
   "metadata": {},
   "source": [
    "And the radial coordinate on the substrate is in calc_sput.DEP1.\n",
    "\n",
    "To plot these, call the plot function as above. We can use other plt commands to enhance the plot:\n"
   ]
  },
  {
   "cell_type": "code",
   "execution_count": 8,
   "metadata": {},
   "outputs": [
    {
     "data": {
      "image/png": "[encoded data removed]",
      "text/plain": [
       "<Figure size 432x288 with 1 Axes>"
      ]
     },
     "metadata": {
      "needs_background": "light"
     },
     "output_type": "display_data"
    }
   ],
   "source": [
    "plt.plot(calc_sput.pR, calc_sput.DEP1,'o')\n",
    "plt.xlabel('Radius (mm)')\n",
    "plt.ylabel('Dep. rate (nm/s)')\n",
    "plt.title('Casandra sputtering rate prediction');"
   ]
  },
  {
   "cell_type": "markdown",
   "metadata": {},
   "source": [
    "Tabulating and saving to files is a little trickier. In the next cell, I will define a couple of helper functions. For the time being, feel free to copy to your notebooks:"
   ]
  },
  {
   "cell_type": "code",
   "execution_count": 9,
   "metadata": {},
   "outputs": [],
   "source": [
    "def tabulate(x,y):\n",
    "    retstr=''\n",
    "    for n in range(len(x)):\n",
    "        line = str(x[n]) + '\\t' + str(y[n]) \n",
    "        print(line)\n",
    "        retstr += line + '\\n'\n",
    "    return(retstr)\n",
    "\n",
    "def save(s,y, file_name):\n",
    "    with open(file_name, 'w') as ofile:\n",
    "        ofile.write(tabulate(x,y))\n",
    "    return\n",
    "\n"
   ]
  },
  {
   "cell_type": "markdown",
   "metadata": {},
   "source": [
    "For example:"
   ]
  },
  {
   "cell_type": "code",
   "execution_count": 10,
   "metadata": {},
   "outputs": [
    {
     "name": "stdout",
     "output_type": "stream",
     "text": [
      "0\t0.02706640246343019\n",
      "2\t0.02705488940190003\n",
      "4\t0.027020386453798326\n",
      "6\t0.026963002110350628\n",
      "8\t0.026882916464740128\n",
      "10\t0.02678038013059788\n",
      "12\t0.026655712741377235\n",
      "14\t0.026509301043933436\n",
      "16\t0.02634159660319919\n",
      "18\t0.026153113138239058\n",
      "20\t0.02594442351314469\n",
      "22\t0.025716156409161268\n",
      "24\t0.025468992707079845\n",
      "26\t0.02520366161125856\n",
      "28\t0.024920936548618135\n",
      "30\t0.024621630877570414\n",
      "32\t0.024306593443059812\n",
      "34\t0.023976704014712656\n",
      "36\t0.023632868645487866\n",
      "38\t0.023276014988198767\n",
      "40\t0.022907087606835443\n",
      "42\t0.022527043318765788\n",
      "44\t0.022136846602649606\n",
      "46\t0.021737465105284664\n",
      "48\t0.021329865278645523\n",
      "50\t0.020915008176109348\n",
      "52\t0.020493845434326727\n",
      "54\t0.020067315464432932\n",
      "56\t0.019636339873352233\n",
      "58\t0.019201820132873307\n",
      "60\t0.018764634511015867\n"
     ]
    }
   ],
   "source": [
    "tabulate(calc_sput.pR, calc_sput.DEP1);"
   ]
  },
  {
   "cell_type": "code",
   "execution_count": null,
   "metadata": {},
   "outputs": [],
   "source": []
  }
 ],
 "metadata": {
  "kernelspec": {
   "display_name": "Python 3",
   "language": "python",
   "name": "python3"
  },
  "language_info": {
   "codemirror_mode": {
    "name": "ipython",
    "version": 3
   },
   "file_extension": ".py",
   "mimetype": "text/x-python",
   "name": "python",
   "nbconvert_exporter": "python",
   "pygments_lexer": "ipython3",
   "version": "3.8.3"
  }
 },
 "nbformat": 4,
 "nbformat_minor": 4
}
